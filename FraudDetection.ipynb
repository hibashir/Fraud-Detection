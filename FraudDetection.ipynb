{
  "cells": [
    {
      "cell_type": "markdown",
      "metadata": {
        "id": "T9sXcpkuNbSW"
      },
      "source": [
        "### Option 05 - Fraud Detection for Finance\n",
        "For this project, import the dataset here, <br/>\n",
        "https://www.kaggle.com/ntnu-testimon/banksim1 <br>\n",
        "Alternative link <br/>\n",
        "https://www.kaggle.com/code/vmeh23/general-data-analysis-for-banksim-data-set/data"
      ]
    },
    {
      "cell_type": "markdown",
      "metadata": {},
      "source": [
        "* step: maps a unit of time in the real world. In this case 1 step is 1 hour of time. Total steps 744 (30 days simulation). <br/>\n",
        "* customer: ID of the customer <br/>\n",
        "* age: The age of the accounts  <br/>\n",
        "* gender: Gender of the customer <br/>\n",
        "* zipcodeOri: The zip code of the customer<br/>\n",
        "* merchant:  ID of the merchant <br/>\n",
        "* zipMerchant: The zip code of the merchant <br/>\n",
        "* category: Category of the transaction <br/>\n",
        "* amount: The amount of the transaction <br/>\n",
        "* fraud: Binary value indicating fraudulent or not fraudulent <br/>"
      ]
    },
    {
      "cell_type": "code",
      "execution_count": 105,
      "metadata": {
        "id": "46bCi9D7NbSc"
      },
      "outputs": [],
      "source": [
        "# (1) Import libraries\n",
        "import pandas as pd\n",
        "import numpy as np\n",
        "import matplotlib.pyplot as plt\n",
        "from sklearn.model_selection import train_test_split"
      ]
    },
    {
      "cell_type": "code",
      "execution_count": 41,
      "metadata": {
        "id": "fMJQSLI7N2Df"
      },
      "outputs": [
        {
          "data": {
            "text/plain": [
              "0    587443\n",
              "1      7200\n",
              "Name: fraud, dtype: int64"
            ]
          },
          "execution_count": 41,
          "metadata": {},
          "output_type": "execute_result"
        }
      ],
      "source": [
        "# (2.c) Read transaction data into Pandas DataFrame\n",
        "fraud_df = pd.read_csv('./bs140513_032310.csv')\n",
        "fraud_df.head()\n",
        "fraud_df['fraud'].value_counts()\n",
        "\n",
        "# Note: the equivalent method for a PySpark DataFrame is\n",
        "# df = spark.read.csv()"
      ]
    },
    {
      "cell_type": "code",
      "execution_count": 42,
      "metadata": {
        "id": "if7CwQppNbSf"
      },
      "outputs": [
        {
          "name": "stdout",
          "output_type": "stream",
          "text": [
            "<class 'pandas.core.frame.DataFrame'>\n",
            "RangeIndex: 594643 entries, 0 to 594642\n",
            "Data columns (total 10 columns):\n",
            " #   Column       Non-Null Count   Dtype  \n",
            "---  ------       --------------   -----  \n",
            " 0   step         594643 non-null  int64  \n",
            " 1   customer     594643 non-null  object \n",
            " 2   age          594643 non-null  object \n",
            " 3   gender       594643 non-null  object \n",
            " 4   zipcodeOri   594643 non-null  object \n",
            " 5   merchant     594643 non-null  object \n",
            " 6   zipMerchant  594643 non-null  object \n",
            " 7   category     594643 non-null  object \n",
            " 8   amount       594643 non-null  float64\n",
            " 9   fraud        594643 non-null  int64  \n",
            "dtypes: float64(1), int64(2), object(7)\n",
            "memory usage: 45.4+ MB\n"
          ]
        }
      ],
      "source": [
        "# (3) Explore data (for example, see what is categorial and numerical)\n",
        "# The dataset has 10 columns out of whish one is dependent variable and 9 independent variables \n",
        "# No variable column has null values.\n",
        "fraud_df.info()"
      ]
    },
    {
      "cell_type": "code",
      "execution_count": 43,
      "metadata": {},
      "outputs": [
        {
          "data": {
            "text/html": [
              "<div>\n",
              "<style scoped>\n",
              "    .dataframe tbody tr th:only-of-type {\n",
              "        vertical-align: middle;\n",
              "    }\n",
              "\n",
              "    .dataframe tbody tr th {\n",
              "        vertical-align: top;\n",
              "    }\n",
              "\n",
              "    .dataframe thead th {\n",
              "        text-align: right;\n",
              "    }\n",
              "</style>\n",
              "<table border=\"1\" class=\"dataframe\">\n",
              "  <thead>\n",
              "    <tr style=\"text-align: right;\">\n",
              "      <th></th>\n",
              "      <th>step</th>\n",
              "      <th>amount</th>\n",
              "      <th>fraud</th>\n",
              "    </tr>\n",
              "  </thead>\n",
              "  <tbody>\n",
              "    <tr>\n",
              "      <th>count</th>\n",
              "      <td>594643.000000</td>\n",
              "      <td>594643.000000</td>\n",
              "      <td>594643.000000</td>\n",
              "    </tr>\n",
              "    <tr>\n",
              "      <th>mean</th>\n",
              "      <td>94.986827</td>\n",
              "      <td>37.890135</td>\n",
              "      <td>0.012108</td>\n",
              "    </tr>\n",
              "    <tr>\n",
              "      <th>std</th>\n",
              "      <td>51.053632</td>\n",
              "      <td>111.402831</td>\n",
              "      <td>0.109369</td>\n",
              "    </tr>\n",
              "    <tr>\n",
              "      <th>min</th>\n",
              "      <td>0.000000</td>\n",
              "      <td>0.000000</td>\n",
              "      <td>0.000000</td>\n",
              "    </tr>\n",
              "    <tr>\n",
              "      <th>25%</th>\n",
              "      <td>52.000000</td>\n",
              "      <td>13.740000</td>\n",
              "      <td>0.000000</td>\n",
              "    </tr>\n",
              "    <tr>\n",
              "      <th>50%</th>\n",
              "      <td>97.000000</td>\n",
              "      <td>26.900000</td>\n",
              "      <td>0.000000</td>\n",
              "    </tr>\n",
              "    <tr>\n",
              "      <th>75%</th>\n",
              "      <td>139.000000</td>\n",
              "      <td>42.540000</td>\n",
              "      <td>0.000000</td>\n",
              "    </tr>\n",
              "    <tr>\n",
              "      <th>max</th>\n",
              "      <td>179.000000</td>\n",
              "      <td>8329.960000</td>\n",
              "      <td>1.000000</td>\n",
              "    </tr>\n",
              "  </tbody>\n",
              "</table>\n",
              "</div>"
            ],
            "text/plain": [
              "                step         amount          fraud\n",
              "count  594643.000000  594643.000000  594643.000000\n",
              "mean       94.986827      37.890135       0.012108\n",
              "std        51.053632     111.402831       0.109369\n",
              "min         0.000000       0.000000       0.000000\n",
              "25%        52.000000      13.740000       0.000000\n",
              "50%        97.000000      26.900000       0.000000\n",
              "75%       139.000000      42.540000       0.000000\n",
              "max       179.000000    8329.960000       1.000000"
            ]
          },
          "execution_count": 43,
          "metadata": {},
          "output_type": "execute_result"
        }
      ],
      "source": [
        "fraud_df.describe()"
      ]
    },
    {
      "cell_type": "code",
      "execution_count": 45,
      "metadata": {},
      "outputs": [
        {
          "data": {
            "text/html": [
              "<div>\n",
              "<style scoped>\n",
              "    .dataframe tbody tr th:only-of-type {\n",
              "        vertical-align: middle;\n",
              "    }\n",
              "\n",
              "    .dataframe tbody tr th {\n",
              "        vertical-align: top;\n",
              "    }\n",
              "\n",
              "    .dataframe thead th {\n",
              "        text-align: right;\n",
              "    }\n",
              "</style>\n",
              "<table border=\"1\" class=\"dataframe\">\n",
              "  <thead>\n",
              "    <tr style=\"text-align: right;\">\n",
              "      <th></th>\n",
              "      <th>step</th>\n",
              "      <th>customer</th>\n",
              "      <th>age</th>\n",
              "      <th>gender</th>\n",
              "      <th>zipCustomer</th>\n",
              "      <th>merchant</th>\n",
              "      <th>zipMerchant</th>\n",
              "      <th>category</th>\n",
              "      <th>amount</th>\n",
              "      <th>fraud</th>\n",
              "    </tr>\n",
              "  </thead>\n",
              "  <tbody>\n",
              "    <tr>\n",
              "      <th>0</th>\n",
              "      <td>0</td>\n",
              "      <td>'C1093826151'</td>\n",
              "      <td>'4'</td>\n",
              "      <td>'M'</td>\n",
              "      <td>'28007'</td>\n",
              "      <td>'M348934600'</td>\n",
              "      <td>'28007'</td>\n",
              "      <td>'es_transportation'</td>\n",
              "      <td>4.55</td>\n",
              "      <td>0</td>\n",
              "    </tr>\n",
              "    <tr>\n",
              "      <th>1</th>\n",
              "      <td>0</td>\n",
              "      <td>'C352968107'</td>\n",
              "      <td>'2'</td>\n",
              "      <td>'M'</td>\n",
              "      <td>'28007'</td>\n",
              "      <td>'M348934600'</td>\n",
              "      <td>'28007'</td>\n",
              "      <td>'es_transportation'</td>\n",
              "      <td>39.68</td>\n",
              "      <td>0</td>\n",
              "    </tr>\n",
              "    <tr>\n",
              "      <th>2</th>\n",
              "      <td>0</td>\n",
              "      <td>'C2054744914'</td>\n",
              "      <td>'4'</td>\n",
              "      <td>'F'</td>\n",
              "      <td>'28007'</td>\n",
              "      <td>'M1823072687'</td>\n",
              "      <td>'28007'</td>\n",
              "      <td>'es_transportation'</td>\n",
              "      <td>26.89</td>\n",
              "      <td>0</td>\n",
              "    </tr>\n",
              "    <tr>\n",
              "      <th>3</th>\n",
              "      <td>0</td>\n",
              "      <td>'C1760612790'</td>\n",
              "      <td>'3'</td>\n",
              "      <td>'M'</td>\n",
              "      <td>'28007'</td>\n",
              "      <td>'M348934600'</td>\n",
              "      <td>'28007'</td>\n",
              "      <td>'es_transportation'</td>\n",
              "      <td>17.25</td>\n",
              "      <td>0</td>\n",
              "    </tr>\n",
              "    <tr>\n",
              "      <th>4</th>\n",
              "      <td>0</td>\n",
              "      <td>'C757503768'</td>\n",
              "      <td>'5'</td>\n",
              "      <td>'M'</td>\n",
              "      <td>'28007'</td>\n",
              "      <td>'M348934600'</td>\n",
              "      <td>'28007'</td>\n",
              "      <td>'es_transportation'</td>\n",
              "      <td>35.72</td>\n",
              "      <td>0</td>\n",
              "    </tr>\n",
              "  </tbody>\n",
              "</table>\n",
              "</div>"
            ],
            "text/plain": [
              "   step       customer  age gender zipCustomer       merchant zipMerchant  \\\n",
              "0     0  'C1093826151'  '4'    'M'     '28007'   'M348934600'     '28007'   \n",
              "1     0   'C352968107'  '2'    'M'     '28007'   'M348934600'     '28007'   \n",
              "2     0  'C2054744914'  '4'    'F'     '28007'  'M1823072687'     '28007'   \n",
              "3     0  'C1760612790'  '3'    'M'     '28007'   'M348934600'     '28007'   \n",
              "4     0   'C757503768'  '5'    'M'     '28007'   'M348934600'     '28007'   \n",
              "\n",
              "              category  amount  fraud  \n",
              "0  'es_transportation'    4.55      0  \n",
              "1  'es_transportation'   39.68      0  \n",
              "2  'es_transportation'   26.89      0  \n",
              "3  'es_transportation'   17.25      0  \n",
              "4  'es_transportation'   35.72      0  "
            ]
          },
          "execution_count": 45,
          "metadata": {},
          "output_type": "execute_result"
        }
      ],
      "source": [
        "fraud_df.rename(columns={'zipcodeOri':'zipCustomer'},inplace=True)\n",
        "fraud_df.head()\n"
      ]
    },
    {
      "cell_type": "markdown",
      "metadata": {},
      "source": [
        "# Data Cleaning\n"
      ]
    },
    {
      "cell_type": "code",
      "execution_count": 46,
      "metadata": {},
      "outputs": [
        {
          "name": "stdout",
          "output_type": "stream",
          "text": [
            "     gender\n",
            "'F'  324565\n",
            "'M'  268385\n",
            "'E'    1178\n",
            "'U'     515\n",
            "        age\n",
            "'2'  187310\n",
            "'3'  147131\n",
            "'4'  109025\n",
            "'5'   62642\n",
            "'1'   58131\n",
            "'6'   26774\n",
            "'0'    2452\n",
            "'U'    1178\n",
            "         zipCustomer\n",
            "'28007'       594643\n",
            "         zipMerchant\n",
            "'28007'       594643\n"
          ]
        }
      ],
      "source": [
        "unique_ages=pd.DataFrame(fraud_df['age'].value_counts())\n",
        "unique_genders=pd.DataFrame(fraud_df['gender'].value_counts())\n",
        "unique_zipCustomer=pd.DataFrame(fraud_df['zipCustomer'].value_counts())\n",
        "unique_zipMerchant=pd.DataFrame(fraud_df['zipMerchant'].value_counts())\n",
        "\n",
        "print(unique_genders)\n",
        "print(unique_ages)\n",
        "print(unique_zipCustomer)\n",
        "print(unique_zipMerchant)"
      ]
    },
    {
      "cell_type": "code",
      "execution_count": 47,
      "metadata": {},
      "outputs": [
        {
          "data": {
            "text/html": [
              "<div>\n",
              "<style scoped>\n",
              "    .dataframe tbody tr th:only-of-type {\n",
              "        vertical-align: middle;\n",
              "    }\n",
              "\n",
              "    .dataframe tbody tr th {\n",
              "        vertical-align: top;\n",
              "    }\n",
              "\n",
              "    .dataframe thead th {\n",
              "        text-align: right;\n",
              "    }\n",
              "</style>\n",
              "<table border=\"1\" class=\"dataframe\">\n",
              "  <thead>\n",
              "    <tr style=\"text-align: right;\">\n",
              "      <th></th>\n",
              "      <th>step</th>\n",
              "      <th>customer</th>\n",
              "      <th>age</th>\n",
              "      <th>gender</th>\n",
              "      <th>merchant</th>\n",
              "      <th>category</th>\n",
              "      <th>amount</th>\n",
              "      <th>fraud</th>\n",
              "    </tr>\n",
              "  </thead>\n",
              "  <tbody>\n",
              "    <tr>\n",
              "      <th>0</th>\n",
              "      <td>0</td>\n",
              "      <td>'C1093826151'</td>\n",
              "      <td>'4'</td>\n",
              "      <td>'M'</td>\n",
              "      <td>'M348934600'</td>\n",
              "      <td>'es_transportation'</td>\n",
              "      <td>4.55</td>\n",
              "      <td>0</td>\n",
              "    </tr>\n",
              "    <tr>\n",
              "      <th>1</th>\n",
              "      <td>0</td>\n",
              "      <td>'C352968107'</td>\n",
              "      <td>'2'</td>\n",
              "      <td>'M'</td>\n",
              "      <td>'M348934600'</td>\n",
              "      <td>'es_transportation'</td>\n",
              "      <td>39.68</td>\n",
              "      <td>0</td>\n",
              "    </tr>\n",
              "    <tr>\n",
              "      <th>2</th>\n",
              "      <td>0</td>\n",
              "      <td>'C2054744914'</td>\n",
              "      <td>'4'</td>\n",
              "      <td>'F'</td>\n",
              "      <td>'M1823072687'</td>\n",
              "      <td>'es_transportation'</td>\n",
              "      <td>26.89</td>\n",
              "      <td>0</td>\n",
              "    </tr>\n",
              "    <tr>\n",
              "      <th>3</th>\n",
              "      <td>0</td>\n",
              "      <td>'C1760612790'</td>\n",
              "      <td>'3'</td>\n",
              "      <td>'M'</td>\n",
              "      <td>'M348934600'</td>\n",
              "      <td>'es_transportation'</td>\n",
              "      <td>17.25</td>\n",
              "      <td>0</td>\n",
              "    </tr>\n",
              "    <tr>\n",
              "      <th>4</th>\n",
              "      <td>0</td>\n",
              "      <td>'C757503768'</td>\n",
              "      <td>'5'</td>\n",
              "      <td>'M'</td>\n",
              "      <td>'M348934600'</td>\n",
              "      <td>'es_transportation'</td>\n",
              "      <td>35.72</td>\n",
              "      <td>0</td>\n",
              "    </tr>\n",
              "  </tbody>\n",
              "</table>\n",
              "</div>"
            ],
            "text/plain": [
              "   step       customer  age gender       merchant             category  \\\n",
              "0     0  'C1093826151'  '4'    'M'   'M348934600'  'es_transportation'   \n",
              "1     0   'C352968107'  '2'    'M'   'M348934600'  'es_transportation'   \n",
              "2     0  'C2054744914'  '4'    'F'  'M1823072687'  'es_transportation'   \n",
              "3     0  'C1760612790'  '3'    'M'   'M348934600'  'es_transportation'   \n",
              "4     0   'C757503768'  '5'    'M'   'M348934600'  'es_transportation'   \n",
              "\n",
              "   amount  fraud  \n",
              "0    4.55      0  \n",
              "1   39.68      0  \n",
              "2   26.89      0  \n",
              "3   17.25      0  \n",
              "4   35.72      0  "
            ]
          },
          "execution_count": 47,
          "metadata": {},
          "output_type": "execute_result"
        }
      ],
      "source": [
        "irrelevant_features=['zipCustomer','zipMerchant']\n",
        "fraud_df.drop(irrelevant_features,axis=1,inplace=True)\n",
        "fraud_df.head()"
      ]
    },
    {
      "cell_type": "code",
      "execution_count": 48,
      "metadata": {},
      "outputs": [
        {
          "data": {
            "text/plain": [
              "F    324565\n",
              "M    268385\n",
              "E      1178\n",
              "U       515\n",
              "Name: gender, dtype: int64"
            ]
          },
          "execution_count": 48,
          "metadata": {},
          "output_type": "execute_result"
        }
      ],
      "source": [
        "fraud_df['age']=fraud_df['age'].str.replace(\"'\",'')\n",
        "fraud_df['gender']=fraud_df['gender'].str.replace(\"'\",'')\n",
        "fraud_df['category']=fraud_df['category'].str.replace(\"'\",'')\n",
        "fraud_df['gender'].value_counts()"
      ]
    },
    {
      "cell_type": "code",
      "execution_count": 49,
      "metadata": {},
      "outputs": [
        {
          "name": "stdout",
          "output_type": "stream",
          "text": [
            "The number of rows where gender column equals \"E\" and age column is \"U\": gender  age\n",
            "E       U      1178\n",
            "dtype: int64\n"
          ]
        }
      ],
      "source": [
        "# The gender and age columns contain some incorrect values\n",
        "gender_and_age=fraud_df.loc[fraud_df['age']=='U',['gender','age']].value_counts()\n",
        "print('The number of rows where gender column equals \"E\" and age column is \"U\":',gender_and_age)"
      ]
    },
    {
      "cell_type": "code",
      "execution_count": 50,
      "metadata": {},
      "outputs": [
        {
          "name": "stderr",
          "output_type": "stream",
          "text": [
            "<ipython-input-50-ff802fb6a00b>:6: UserWarning: Boolean Series key will be reindexed to match DataFrame index.\n",
            "  fraud_df=fraud_df.drop(fraud_df[cond2].index,axis=0,inplace=False)\n"
          ]
        },
        {
          "name": "stdout",
          "output_type": "stream",
          "text": [
            "1    324565\n",
            "0    268385\n",
            "Name: gender, dtype: int64\n",
            "2    187146\n",
            "3    146958\n",
            "4    109025\n",
            "5     62642\n",
            "1     57953\n",
            "6     26774\n",
            "0      2452\n",
            "Name: age, dtype: int64\n"
          ]
        }
      ],
      "source": [
        "# Rows with incorrect values were dropped\n",
        "cond1=fraud_df['gender']=='E'\n",
        "cond2=fraud_df['gender']=='U'\n",
        "\n",
        "fraud_df=fraud_df.drop(fraud_df[cond1].index,axis=0,inplace=False)\n",
        "fraud_df=fraud_df.drop(fraud_df[cond2].index,axis=0,inplace=False)\n",
        "\n",
        "gender_map={'M':0,'F':1}\n",
        "fraud_df['gender']=fraud_df['gender'].map(gender_map)\n",
        "print(fraud_df['gender'].value_counts(dropna=False))\n",
        "print(fraud_df['age'].value_counts(dropna=False))\n"
      ]
    },
    {
      "cell_type": "code",
      "execution_count": 51,
      "metadata": {},
      "outputs": [
        {
          "data": {
            "text/html": [
              "<div>\n",
              "<style scoped>\n",
              "    .dataframe tbody tr th:only-of-type {\n",
              "        vertical-align: middle;\n",
              "    }\n",
              "\n",
              "    .dataframe tbody tr th {\n",
              "        vertical-align: top;\n",
              "    }\n",
              "\n",
              "    .dataframe thead th {\n",
              "        text-align: right;\n",
              "    }\n",
              "</style>\n",
              "<table border=\"1\" class=\"dataframe\">\n",
              "  <thead>\n",
              "    <tr style=\"text-align: right;\">\n",
              "      <th></th>\n",
              "      <th>step</th>\n",
              "      <th>customer</th>\n",
              "      <th>age</th>\n",
              "      <th>gender</th>\n",
              "      <th>merchant</th>\n",
              "      <th>category</th>\n",
              "      <th>amount</th>\n",
              "      <th>fraud</th>\n",
              "    </tr>\n",
              "  </thead>\n",
              "  <tbody>\n",
              "    <tr>\n",
              "      <th>0</th>\n",
              "      <td>0</td>\n",
              "      <td>'C1093826151'</td>\n",
              "      <td>4</td>\n",
              "      <td>0</td>\n",
              "      <td>'M348934600'</td>\n",
              "      <td>es_transportation</td>\n",
              "      <td>4.55</td>\n",
              "      <td>0</td>\n",
              "    </tr>\n",
              "    <tr>\n",
              "      <th>1</th>\n",
              "      <td>0</td>\n",
              "      <td>'C352968107'</td>\n",
              "      <td>2</td>\n",
              "      <td>0</td>\n",
              "      <td>'M348934600'</td>\n",
              "      <td>es_transportation</td>\n",
              "      <td>39.68</td>\n",
              "      <td>0</td>\n",
              "    </tr>\n",
              "    <tr>\n",
              "      <th>2</th>\n",
              "      <td>0</td>\n",
              "      <td>'C2054744914'</td>\n",
              "      <td>4</td>\n",
              "      <td>1</td>\n",
              "      <td>'M1823072687'</td>\n",
              "      <td>es_transportation</td>\n",
              "      <td>26.89</td>\n",
              "      <td>0</td>\n",
              "    </tr>\n",
              "    <tr>\n",
              "      <th>3</th>\n",
              "      <td>0</td>\n",
              "      <td>'C1760612790'</td>\n",
              "      <td>3</td>\n",
              "      <td>0</td>\n",
              "      <td>'M348934600'</td>\n",
              "      <td>es_transportation</td>\n",
              "      <td>17.25</td>\n",
              "      <td>0</td>\n",
              "    </tr>\n",
              "    <tr>\n",
              "      <th>4</th>\n",
              "      <td>0</td>\n",
              "      <td>'C757503768'</td>\n",
              "      <td>5</td>\n",
              "      <td>0</td>\n",
              "      <td>'M348934600'</td>\n",
              "      <td>es_transportation</td>\n",
              "      <td>35.72</td>\n",
              "      <td>0</td>\n",
              "    </tr>\n",
              "  </tbody>\n",
              "</table>\n",
              "</div>"
            ],
            "text/plain": [
              "   step       customer age  gender       merchant           category  amount  \\\n",
              "0     0  'C1093826151'   4       0   'M348934600'  es_transportation    4.55   \n",
              "1     0   'C352968107'   2       0   'M348934600'  es_transportation   39.68   \n",
              "2     0  'C2054744914'   4       1  'M1823072687'  es_transportation   26.89   \n",
              "3     0  'C1760612790'   3       0   'M348934600'  es_transportation   17.25   \n",
              "4     0   'C757503768'   5       0   'M348934600'  es_transportation   35.72   \n",
              "\n",
              "   fraud  \n",
              "0      0  \n",
              "1      0  \n",
              "2      0  \n",
              "3      0  \n",
              "4      0  "
            ]
          },
          "execution_count": 51,
          "metadata": {},
          "output_type": "execute_result"
        }
      ],
      "source": [
        "fraud_df.head()"
      ]
    },
    {
      "cell_type": "code",
      "execution_count": 52,
      "metadata": {},
      "outputs": [
        {
          "name": "stdout",
          "output_type": "stream",
          "text": [
            "<class 'pandas.core.frame.DataFrame'>\n",
            "Int64Index: 592950 entries, 0 to 594642\n",
            "Data columns (total 8 columns):\n",
            " #   Column    Non-Null Count   Dtype  \n",
            "---  ------    --------------   -----  \n",
            " 0   step      592950 non-null  int64  \n",
            " 1   customer  592950 non-null  object \n",
            " 2   age       592950 non-null  object \n",
            " 3   gender    592950 non-null  int64  \n",
            " 4   merchant  592950 non-null  object \n",
            " 5   category  592950 non-null  object \n",
            " 6   amount    592950 non-null  float64\n",
            " 7   fraud     592950 non-null  int64  \n",
            "dtypes: float64(1), int64(3), object(4)\n",
            "memory usage: 40.7+ MB\n"
          ]
        }
      ],
      "source": [
        "fraud_df.info()"
      ]
    },
    {
      "cell_type": "markdown",
      "metadata": {},
      "source": [
        "# Exploratory Data Analysis"
      ]
    },
    {
      "cell_type": "code",
      "execution_count": 53,
      "metadata": {},
      "outputs": [
        {
          "name": "stdout",
          "output_type": "stream",
          "text": [
            "    fraud\n",
            "0  585757\n",
            "1    7193\n",
            "Percentage of fraudulent transactions: 1.23 %\n"
          ]
        }
      ],
      "source": [
        "#check how many fraud and how many non fraud transactions do we have \n",
        "#and count the percentage of fraud \n",
        "unique_fraud=pd.DataFrame(fraud_df['fraud'].value_counts())\n",
        "print(unique_fraud)\n",
        "print('Percentage of fraudulent transactions:',round(\n",
        "    (unique_fraud.loc[1,'fraud']/unique_fraud.loc[0,'fraud'])*100,\n",
        "    2),'%')\n"
      ]
    },
    {
      "cell_type": "code",
      "execution_count": 54,
      "metadata": {},
      "outputs": [
        {
          "name": "stdout",
          "output_type": "stream",
          "text": [
            "es_transportation        503699\n",
            "es_food                   26164\n",
            "es_health                 16066\n",
            "es_wellnessandbeauty      15056\n",
            "es_fashion                 6436\n",
            "es_barsandrestaurants      6356\n",
            "es_hyper                   6082\n",
            "es_sportsandtoys           3998\n",
            "es_tech                    2358\n",
            "es_home                    1982\n",
            "es_hotelservices           1736\n",
            "es_otherservices            910\n",
            "es_contents                 881\n",
            "es_travel                   728\n",
            "es_leisure                  498\n",
            "Name: category, dtype: int64\n"
          ]
        }
      ],
      "source": [
        "#unique_categories=fraud_df['category'].value_counts()\n",
        "#print(unique_categories)"
      ]
    },
    {
      "cell_type": "code",
      "execution_count": 55,
      "metadata": {},
      "outputs": [
        {
          "name": "stdout",
          "output_type": "stream",
          "text": [
            "179    3700\n",
            "178    3733\n",
            "177    3748\n",
            "176    3713\n",
            "175    3763\n",
            "       ... \n",
            "4      2525\n",
            "3      2493\n",
            "2      2455\n",
            "1      2418\n",
            "0      2423\n",
            "Name: step, Length: 180, dtype: int64\n"
          ]
        }
      ],
      "source": [
        "#unique_steps=fraud_df['step'].value_counts().sort_index(ascending=False)\n",
        "#print(unique_steps)"
      ]
    },
    {
      "cell_type": "code",
      "execution_count": 56,
      "metadata": {},
      "outputs": [
        {
          "name": "stdout",
          "output_type": "stream",
          "text": [
            "        customer  fraud\n",
            "0  'C1350963410'    144\n",
            "1  'C1849046345'    127\n",
            "2   'C806399525'    125\n",
            "3  'C2004941826'    119\n",
            "4  'C1275518867'    114\n",
            "5  'C1978250683'    110\n",
            "6   'C381007057'     89\n",
            "7  'C1572610482'     89\n",
            "8  'C1817318774'     87\n",
            "9   'C910454738'     87\n",
            "Percentage of customers that faced fraud is: 36.07 %\n"
          ]
        }
      ],
      "source": [
        "# Fraud analysis by customer\n",
        "is_fraud=fraud_df[fraud_df['fraud']==1]\n",
        "grouped_customer=is_fraud.groupby('customer')\n",
        "fraud_per_cust=pd.DataFrame(grouped_customer['fraud'].agg(sum)).sort_values(by='fraud',ascending=False)\n",
        "fraud_per_cust=fraud_per_cust.reset_index()\n",
        "print(fraud_per_cust.head(10))\n",
        "\n",
        "\n",
        "\n",
        "# Percentage of customers that were subject to fraud\n",
        "unique_cust_total=fraud_df['customer'].unique().size\n",
        "unique_cust_with_f=fraud_per_cust['customer'].size\n",
        "cust_percent=(unique_cust_with_f/unique_cust_total)*100\n",
        "print('Percentage of customers that faced fraud is:',round(cust_percent,2),'%')\n",
        "\n",
        "\n"
      ]
    },
    {
      "cell_type": "code",
      "execution_count": 57,
      "metadata": {},
      "outputs": [
        {
          "data": {
            "image/png": "[encoded data removed]",
            "text/plain": [
              "<Figure size 432x288 with 1 Axes>"
            ]
          },
          "metadata": {
            "needs_background": "light"
          },
          "output_type": "display_data"
        }
      ],
      "source": [
        "# Fraud analysis by Category\n",
        "fraud_per_cat=is_fraud.groupby('category')['fraud'].agg(sum).sort_values()\n",
        "fraud_per_cat=fraud_per_cat.reset_index()\n",
        "plt.figure(1,figsize=(6,4))\n",
        "plt.barh(fraud_per_cat['category'],fraud_per_cat['fraud'])\n",
        "plt.title('Number of frauds per category')\n",
        "plt.ylabel('Category')\n",
        "plt.xlabel('Number of frauds')\n",
        "plt.show()\n"
      ]
    },
    {
      "cell_type": "markdown",
      "metadata": {},
      "source": [
        "# Feature Engineering"
      ]
    },
    {
      "cell_type": "code",
      "execution_count": 58,
      "metadata": {},
      "outputs": [],
      "source": [
        "# new_list={'values':['F','M','M','M','M','M','F','F','F','M','U','E']}\n",
        "\n",
        "# new_data=pd.DataFrame(new_list)\n",
        "# condition1=new_data['values']=='U'\n",
        "# condition2=new_data['values']=='E'\n",
        "# new_data.drop(new_data[condition1].index,axis=0,inplace=True)\n",
        "# new_data.drop(new_data[condition2].index,axis=0,inplace=True)\n",
        "# new_data.head()"
      ]
    },
    {
      "cell_type": "code",
      "execution_count": 59,
      "metadata": {},
      "outputs": [],
      "source": [
        "\n",
        "\n",
        "# mapping={'F':1,'M':0}\n",
        "# new_data['values']=new_data['values'].map(mapping)\n",
        "# new_data['values'].head()\n",
        "\n",
        "\n",
        "\n",
        "\n",
        "\n",
        "\n"
      ]
    },
    {
      "cell_type": "code",
      "execution_count": 60,
      "metadata": {
        "id": "O4kcjZT7NbSf"
      },
      "outputs": [
        {
          "data": {
            "text/html": [
              "<div>\n",
              "<style scoped>\n",
              "    .dataframe tbody tr th:only-of-type {\n",
              "        vertical-align: middle;\n",
              "    }\n",
              "\n",
              "    .dataframe tbody tr th {\n",
              "        vertical-align: top;\n",
              "    }\n",
              "\n",
              "    .dataframe thead th {\n",
              "        text-align: right;\n",
              "    }\n",
              "</style>\n",
              "<table border=\"1\" class=\"dataframe\">\n",
              "  <thead>\n",
              "    <tr style=\"text-align: right;\">\n",
              "      <th></th>\n",
              "      <th>step</th>\n",
              "      <th>customer</th>\n",
              "      <th>age</th>\n",
              "      <th>gender</th>\n",
              "      <th>merchant</th>\n",
              "      <th>category</th>\n",
              "      <th>amount</th>\n",
              "      <th>fraud</th>\n",
              "    </tr>\n",
              "  </thead>\n",
              "  <tbody>\n",
              "    <tr>\n",
              "      <th>0</th>\n",
              "      <td>0</td>\n",
              "      <td>'C1093826151'</td>\n",
              "      <td>4</td>\n",
              "      <td>0</td>\n",
              "      <td>'M348934600'</td>\n",
              "      <td>es_transportation</td>\n",
              "      <td>4.55</td>\n",
              "      <td>0</td>\n",
              "    </tr>\n",
              "    <tr>\n",
              "      <th>1</th>\n",
              "      <td>0</td>\n",
              "      <td>'C352968107'</td>\n",
              "      <td>2</td>\n",
              "      <td>0</td>\n",
              "      <td>'M348934600'</td>\n",
              "      <td>es_transportation</td>\n",
              "      <td>39.68</td>\n",
              "      <td>0</td>\n",
              "    </tr>\n",
              "    <tr>\n",
              "      <th>2</th>\n",
              "      <td>0</td>\n",
              "      <td>'C2054744914'</td>\n",
              "      <td>4</td>\n",
              "      <td>1</td>\n",
              "      <td>'M1823072687'</td>\n",
              "      <td>es_transportation</td>\n",
              "      <td>26.89</td>\n",
              "      <td>0</td>\n",
              "    </tr>\n",
              "    <tr>\n",
              "      <th>3</th>\n",
              "      <td>0</td>\n",
              "      <td>'C1760612790'</td>\n",
              "      <td>3</td>\n",
              "      <td>0</td>\n",
              "      <td>'M348934600'</td>\n",
              "      <td>es_transportation</td>\n",
              "      <td>17.25</td>\n",
              "      <td>0</td>\n",
              "    </tr>\n",
              "    <tr>\n",
              "      <th>4</th>\n",
              "      <td>0</td>\n",
              "      <td>'C757503768'</td>\n",
              "      <td>5</td>\n",
              "      <td>0</td>\n",
              "      <td>'M348934600'</td>\n",
              "      <td>es_transportation</td>\n",
              "      <td>35.72</td>\n",
              "      <td>0</td>\n",
              "    </tr>\n",
              "  </tbody>\n",
              "</table>\n",
              "</div>"
            ],
            "text/plain": [
              "   step       customer age  gender       merchant           category  amount  \\\n",
              "0     0  'C1093826151'   4       0   'M348934600'  es_transportation    4.55   \n",
              "1     0   'C352968107'   2       0   'M348934600'  es_transportation   39.68   \n",
              "2     0  'C2054744914'   4       1  'M1823072687'  es_transportation   26.89   \n",
              "3     0  'C1760612790'   3       0   'M348934600'  es_transportation   17.25   \n",
              "4     0   'C757503768'   5       0   'M348934600'  es_transportation   35.72   \n",
              "\n",
              "   fraud  \n",
              "0      0  \n",
              "1      0  \n",
              "2      0  \n",
              "3      0  \n",
              "4      0  "
            ]
          },
          "execution_count": 60,
          "metadata": {},
          "output_type": "execute_result"
        }
      ],
      "source": [
        "fraud_df.head()\n"
      ]
    },
    {
      "cell_type": "code",
      "execution_count": 61,
      "metadata": {},
      "outputs": [
        {
          "data": {
            "text/html": [
              "<div>\n",
              "<style scoped>\n",
              "    .dataframe tbody tr th:only-of-type {\n",
              "        vertical-align: middle;\n",
              "    }\n",
              "\n",
              "    .dataframe tbody tr th {\n",
              "        vertical-align: top;\n",
              "    }\n",
              "\n",
              "    .dataframe thead th {\n",
              "        text-align: right;\n",
              "    }\n",
              "</style>\n",
              "<table border=\"1\" class=\"dataframe\">\n",
              "  <thead>\n",
              "    <tr style=\"text-align: right;\">\n",
              "      <th></th>\n",
              "      <th>step</th>\n",
              "      <th>age</th>\n",
              "      <th>gender</th>\n",
              "      <th>category</th>\n",
              "      <th>amount</th>\n",
              "      <th>fraud</th>\n",
              "    </tr>\n",
              "  </thead>\n",
              "  <tbody>\n",
              "    <tr>\n",
              "      <th>0</th>\n",
              "      <td>0</td>\n",
              "      <td>4</td>\n",
              "      <td>0</td>\n",
              "      <td>es_transportation</td>\n",
              "      <td>4.55</td>\n",
              "      <td>0</td>\n",
              "    </tr>\n",
              "    <tr>\n",
              "      <th>1</th>\n",
              "      <td>0</td>\n",
              "      <td>2</td>\n",
              "      <td>0</td>\n",
              "      <td>es_transportation</td>\n",
              "      <td>39.68</td>\n",
              "      <td>0</td>\n",
              "    </tr>\n",
              "    <tr>\n",
              "      <th>2</th>\n",
              "      <td>0</td>\n",
              "      <td>4</td>\n",
              "      <td>1</td>\n",
              "      <td>es_transportation</td>\n",
              "      <td>26.89</td>\n",
              "      <td>0</td>\n",
              "    </tr>\n",
              "    <tr>\n",
              "      <th>3</th>\n",
              "      <td>0</td>\n",
              "      <td>3</td>\n",
              "      <td>0</td>\n",
              "      <td>es_transportation</td>\n",
              "      <td>17.25</td>\n",
              "      <td>0</td>\n",
              "    </tr>\n",
              "    <tr>\n",
              "      <th>4</th>\n",
              "      <td>0</td>\n",
              "      <td>5</td>\n",
              "      <td>0</td>\n",
              "      <td>es_transportation</td>\n",
              "      <td>35.72</td>\n",
              "      <td>0</td>\n",
              "    </tr>\n",
              "  </tbody>\n",
              "</table>\n",
              "</div>"
            ],
            "text/plain": [
              "   step age  gender           category  amount  fraud\n",
              "0     0   4       0  es_transportation    4.55      0\n",
              "1     0   2       0  es_transportation   39.68      0\n",
              "2     0   4       1  es_transportation   26.89      0\n",
              "3     0   3       0  es_transportation   17.25      0\n",
              "4     0   5       0  es_transportation   35.72      0"
            ]
          },
          "execution_count": 61,
          "metadata": {},
          "output_type": "execute_result"
        }
      ],
      "source": [
        "#dropped irrelevant features\n",
        "fraud_df=fraud_df.drop(['customer','merchant'],axis=1,inplace=False)\n",
        "fraud_df.head()"
      ]
    },
    {
      "cell_type": "code",
      "execution_count": 62,
      "metadata": {},
      "outputs": [
        {
          "name": "stdout",
          "output_type": "stream",
          "text": [
            "<class 'pandas.core.frame.DataFrame'>\n",
            "Int64Index: 592950 entries, 0 to 594642\n",
            "Data columns (total 20 columns):\n",
            " #   Column                          Non-Null Count   Dtype  \n",
            "---  ------                          --------------   -----  \n",
            " 0   step                            592950 non-null  int64  \n",
            " 1   age                             592950 non-null  object \n",
            " 2   gender                          592950 non-null  int64  \n",
            " 3   amount                          592950 non-null  float64\n",
            " 4   fraud                           592950 non-null  int64  \n",
            " 5   category_es_barsandrestaurants  592950 non-null  uint8  \n",
            " 6   category_es_contents            592950 non-null  uint8  \n",
            " 7   category_es_fashion             592950 non-null  uint8  \n",
            " 8   category_es_food                592950 non-null  uint8  \n",
            " 9   category_es_health              592950 non-null  uint8  \n",
            " 10  category_es_home                592950 non-null  uint8  \n",
            " 11  category_es_hotelservices       592950 non-null  uint8  \n",
            " 12  category_es_hyper               592950 non-null  uint8  \n",
            " 13  category_es_leisure             592950 non-null  uint8  \n",
            " 14  category_es_otherservices       592950 non-null  uint8  \n",
            " 15  category_es_sportsandtoys       592950 non-null  uint8  \n",
            " 16  category_es_tech                592950 non-null  uint8  \n",
            " 17  category_es_transportation      592950 non-null  uint8  \n",
            " 18  category_es_travel              592950 non-null  uint8  \n",
            " 19  category_es_wellnessandbeauty   592950 non-null  uint8  \n",
            "dtypes: float64(1), int64(3), object(1), uint8(15)\n",
            "memory usage: 35.6+ MB\n"
          ]
        }
      ],
      "source": [
        "# perform one-hot enconding for categories \n",
        "fraud_df=pd.get_dummies(fraud_df,columns=['category'])\n",
        "fraud_df.info()"
      ]
    },
    {
      "cell_type": "code",
      "execution_count": 63,
      "metadata": {},
      "outputs": [],
      "source": [
        "# (4) Choose the label and features\n",
        "features_df=fraud_df.drop('fraud',axis=1,inplace=False)\n",
        "label_df=fraud_df['fraud']\n"
      ]
    },
    {
      "cell_type": "code",
      "execution_count": 65,
      "metadata": {},
      "outputs": [
        {
          "name": "stdout",
          "output_type": "stream",
          "text": [
            "<class 'pandas.core.frame.DataFrame'>\n",
            "Int64Index: 592950 entries, 0 to 594642\n",
            "Data columns (total 20 columns):\n",
            " #   Column                          Non-Null Count   Dtype  \n",
            "---  ------                          --------------   -----  \n",
            " 0   step                            592950 non-null  int64  \n",
            " 1   age                             592950 non-null  object \n",
            " 2   gender                          592950 non-null  int64  \n",
            " 3   amount                          592950 non-null  float64\n",
            " 4   fraud                           592950 non-null  int64  \n",
            " 5   category_es_barsandrestaurants  592950 non-null  uint8  \n",
            " 6   category_es_contents            592950 non-null  uint8  \n",
            " 7   category_es_fashion             592950 non-null  uint8  \n",
            " 8   category_es_food                592950 non-null  uint8  \n",
            " 9   category_es_health              592950 non-null  uint8  \n",
            " 10  category_es_home                592950 non-null  uint8  \n",
            " 11  category_es_hotelservices       592950 non-null  uint8  \n",
            " 12  category_es_hyper               592950 non-null  uint8  \n",
            " 13  category_es_leisure             592950 non-null  uint8  \n",
            " 14  category_es_otherservices       592950 non-null  uint8  \n",
            " 15  category_es_sportsandtoys       592950 non-null  uint8  \n",
            " 16  category_es_tech                592950 non-null  uint8  \n",
            " 17  category_es_transportation      592950 non-null  uint8  \n",
            " 18  category_es_travel              592950 non-null  uint8  \n",
            " 19  category_es_wellnessandbeauty   592950 non-null  uint8  \n",
            "dtypes: float64(1), int64(3), object(1), uint8(15)\n",
            "memory usage: 35.6+ MB\n"
          ]
        }
      ],
      "source": [
        "fraud_df.info()"
      ]
    },
    {
      "cell_type": "code",
      "execution_count": 92,
      "metadata": {},
      "outputs": [
        {
          "data": {
            "text/plain": [
              "0    585757\n",
              "Name: fraud, dtype: int64"
            ]
          },
          "execution_count": 92,
          "metadata": {},
          "output_type": "execute_result"
        }
      ],
      "source": [
        "#this step was done in the previous cell (the percentage count)\n",
        "#non_fraud_data=fraud_df[fraud_df['fraud']==0]\n",
        "#non_fraud_data['fraud'].value_counts()\n",
        "\n"
      ]
    },
    {
      "cell_type": "code",
      "execution_count": 98,
      "metadata": {},
      "outputs": [
        {
          "data": {
            "text/html": [
              "<div>\n",
              "<style scoped>\n",
              "    .dataframe tbody tr th:only-of-type {\n",
              "        vertical-align: middle;\n",
              "    }\n",
              "\n",
              "    .dataframe tbody tr th {\n",
              "        vertical-align: top;\n",
              "    }\n",
              "\n",
              "    .dataframe thead th {\n",
              "        text-align: right;\n",
              "    }\n",
              "</style>\n",
              "<table border=\"1\" class=\"dataframe\">\n",
              "  <thead>\n",
              "    <tr style=\"text-align: right;\">\n",
              "      <th></th>\n",
              "      <th>step</th>\n",
              "      <th>age</th>\n",
              "      <th>gender</th>\n",
              "      <th>amount</th>\n",
              "      <th>fraud</th>\n",
              "      <th>category_es_barsandrestaurants</th>\n",
              "      <th>category_es_contents</th>\n",
              "      <th>category_es_fashion</th>\n",
              "      <th>category_es_food</th>\n",
              "      <th>category_es_health</th>\n",
              "      <th>category_es_home</th>\n",
              "      <th>category_es_hotelservices</th>\n",
              "      <th>category_es_hyper</th>\n",
              "      <th>category_es_leisure</th>\n",
              "      <th>category_es_otherservices</th>\n",
              "      <th>category_es_sportsandtoys</th>\n",
              "      <th>category_es_tech</th>\n",
              "      <th>category_es_transportation</th>\n",
              "      <th>category_es_travel</th>\n",
              "      <th>category_es_wellnessandbeauty</th>\n",
              "    </tr>\n",
              "  </thead>\n",
              "  <tbody>\n",
              "    <tr>\n",
              "      <th>6696</th>\n",
              "      <td>2</td>\n",
              "      <td>1</td>\n",
              "      <td>1</td>\n",
              "      <td>12.93</td>\n",
              "      <td>0</td>\n",
              "      <td>0</td>\n",
              "      <td>0</td>\n",
              "      <td>0</td>\n",
              "      <td>0</td>\n",
              "      <td>0</td>\n",
              "      <td>0</td>\n",
              "      <td>0</td>\n",
              "      <td>0</td>\n",
              "      <td>0</td>\n",
              "      <td>0</td>\n",
              "      <td>0</td>\n",
              "      <td>0</td>\n",
              "      <td>1</td>\n",
              "      <td>0</td>\n",
              "      <td>0</td>\n",
              "    </tr>\n",
              "    <tr>\n",
              "      <th>52395</th>\n",
              "      <td>20</td>\n",
              "      <td>3</td>\n",
              "      <td>0</td>\n",
              "      <td>142.48</td>\n",
              "      <td>0</td>\n",
              "      <td>0</td>\n",
              "      <td>0</td>\n",
              "      <td>0</td>\n",
              "      <td>0</td>\n",
              "      <td>0</td>\n",
              "      <td>0</td>\n",
              "      <td>0</td>\n",
              "      <td>0</td>\n",
              "      <td>0</td>\n",
              "      <td>0</td>\n",
              "      <td>0</td>\n",
              "      <td>1</td>\n",
              "      <td>0</td>\n",
              "      <td>0</td>\n",
              "      <td>0</td>\n",
              "    </tr>\n",
              "    <tr>\n",
              "      <th>458187</th>\n",
              "      <td>143</td>\n",
              "      <td>3</td>\n",
              "      <td>0</td>\n",
              "      <td>33.79</td>\n",
              "      <td>0</td>\n",
              "      <td>0</td>\n",
              "      <td>0</td>\n",
              "      <td>0</td>\n",
              "      <td>0</td>\n",
              "      <td>0</td>\n",
              "      <td>0</td>\n",
              "      <td>0</td>\n",
              "      <td>0</td>\n",
              "      <td>0</td>\n",
              "      <td>0</td>\n",
              "      <td>0</td>\n",
              "      <td>0</td>\n",
              "      <td>1</td>\n",
              "      <td>0</td>\n",
              "      <td>0</td>\n",
              "    </tr>\n",
              "    <tr>\n",
              "      <th>488570</th>\n",
              "      <td>151</td>\n",
              "      <td>3</td>\n",
              "      <td>1</td>\n",
              "      <td>23.22</td>\n",
              "      <td>0</td>\n",
              "      <td>0</td>\n",
              "      <td>0</td>\n",
              "      <td>0</td>\n",
              "      <td>0</td>\n",
              "      <td>0</td>\n",
              "      <td>0</td>\n",
              "      <td>0</td>\n",
              "      <td>0</td>\n",
              "      <td>0</td>\n",
              "      <td>0</td>\n",
              "      <td>0</td>\n",
              "      <td>0</td>\n",
              "      <td>1</td>\n",
              "      <td>0</td>\n",
              "      <td>0</td>\n",
              "    </tr>\n",
              "    <tr>\n",
              "      <th>315191</th>\n",
              "      <td>103</td>\n",
              "      <td>3</td>\n",
              "      <td>1</td>\n",
              "      <td>3.64</td>\n",
              "      <td>0</td>\n",
              "      <td>0</td>\n",
              "      <td>0</td>\n",
              "      <td>0</td>\n",
              "      <td>0</td>\n",
              "      <td>0</td>\n",
              "      <td>0</td>\n",
              "      <td>0</td>\n",
              "      <td>0</td>\n",
              "      <td>0</td>\n",
              "      <td>0</td>\n",
              "      <td>0</td>\n",
              "      <td>0</td>\n",
              "      <td>1</td>\n",
              "      <td>0</td>\n",
              "      <td>0</td>\n",
              "    </tr>\n",
              "  </tbody>\n",
              "</table>\n",
              "</div>"
            ],
            "text/plain": [
              "        step age  gender  amount  fraud  category_es_barsandrestaurants  \\\n",
              "6696       2   1       1   12.93      0                               0   \n",
              "52395     20   3       0  142.48      0                               0   \n",
              "458187   143   3       0   33.79      0                               0   \n",
              "488570   151   3       1   23.22      0                               0   \n",
              "315191   103   3       1    3.64      0                               0   \n",
              "\n",
              "        category_es_contents  category_es_fashion  category_es_food  \\\n",
              "6696                       0                    0                 0   \n",
              "52395                      0                    0                 0   \n",
              "458187                     0                    0                 0   \n",
              "488570                     0                    0                 0   \n",
              "315191                     0                    0                 0   \n",
              "\n",
              "        category_es_health  category_es_home  category_es_hotelservices  \\\n",
              "6696                     0                 0                          0   \n",
              "52395                    0                 0                          0   \n",
              "458187                   0                 0                          0   \n",
              "488570                   0                 0                          0   \n",
              "315191                   0                 0                          0   \n",
              "\n",
              "        category_es_hyper  category_es_leisure  category_es_otherservices  \\\n",
              "6696                    0                    0                          0   \n",
              "52395                   0                    0                          0   \n",
              "458187                  0                    0                          0   \n",
              "488570                  0                    0                          0   \n",
              "315191                  0                    0                          0   \n",
              "\n",
              "        category_es_sportsandtoys  category_es_tech  \\\n",
              "6696                            0                 0   \n",
              "52395                           0                 1   \n",
              "458187                          0                 0   \n",
              "488570                          0                 0   \n",
              "315191                          0                 0   \n",
              "\n",
              "        category_es_transportation  category_es_travel  \\\n",
              "6696                             1                   0   \n",
              "52395                            0                   0   \n",
              "458187                           1                   0   \n",
              "488570                           1                   0   \n",
              "315191                           1                   0   \n",
              "\n",
              "        category_es_wellnessandbeauty  \n",
              "6696                                0  \n",
              "52395                               0  \n",
              "458187                              0  \n",
              "488570                              0  \n",
              "315191                              0  "
            ]
          },
          "execution_count": 98,
          "metadata": {},
          "output_type": "execute_result"
        }
      ],
      "source": [
        "# selecting samples from the non fraud data , to decrease the difference between fraud and non fraud transaction numbers\n",
        "# choosing random state to make sure we select the same data everytime \n",
        "#we selected 64800/585757 to give the ratio 1:9 (fraud:nonFraud) data \n",
        "\n",
        "sample_non_fraud=non_fraud_data.sample(frac=(64800/585757),random_state=15)\n",
        "sample_non_fraud.head()"
      ]
    },
    {
      "cell_type": "code",
      "execution_count": 103,
      "metadata": {},
      "outputs": [
        {
          "data": {
            "text/html": [
              "<div>\n",
              "<style scoped>\n",
              "    .dataframe tbody tr th:only-of-type {\n",
              "        vertical-align: middle;\n",
              "    }\n",
              "\n",
              "    .dataframe tbody tr th {\n",
              "        vertical-align: top;\n",
              "    }\n",
              "\n",
              "    .dataframe thead th {\n",
              "        text-align: right;\n",
              "    }\n",
              "</style>\n",
              "<table border=\"1\" class=\"dataframe\">\n",
              "  <thead>\n",
              "    <tr style=\"text-align: right;\">\n",
              "      <th></th>\n",
              "      <th>step</th>\n",
              "      <th>age</th>\n",
              "      <th>gender</th>\n",
              "      <th>amount</th>\n",
              "      <th>fraud</th>\n",
              "      <th>category_es_barsandrestaurants</th>\n",
              "      <th>category_es_contents</th>\n",
              "      <th>category_es_fashion</th>\n",
              "      <th>category_es_food</th>\n",
              "      <th>category_es_health</th>\n",
              "      <th>category_es_home</th>\n",
              "      <th>category_es_hotelservices</th>\n",
              "      <th>category_es_hyper</th>\n",
              "      <th>category_es_leisure</th>\n",
              "      <th>category_es_otherservices</th>\n",
              "      <th>category_es_sportsandtoys</th>\n",
              "      <th>category_es_tech</th>\n",
              "      <th>category_es_transportation</th>\n",
              "      <th>category_es_travel</th>\n",
              "      <th>category_es_wellnessandbeauty</th>\n",
              "    </tr>\n",
              "  </thead>\n",
              "  <tbody>\n",
              "    <tr>\n",
              "      <th>88</th>\n",
              "      <td>0</td>\n",
              "      <td>3</td>\n",
              "      <td>0</td>\n",
              "      <td>44.26</td>\n",
              "      <td>1</td>\n",
              "      <td>0</td>\n",
              "      <td>0</td>\n",
              "      <td>0</td>\n",
              "      <td>0</td>\n",
              "      <td>1</td>\n",
              "      <td>0</td>\n",
              "      <td>0</td>\n",
              "      <td>0</td>\n",
              "      <td>0</td>\n",
              "      <td>0</td>\n",
              "      <td>0</td>\n",
              "      <td>0</td>\n",
              "      <td>0</td>\n",
              "      <td>0</td>\n",
              "      <td>0</td>\n",
              "    </tr>\n",
              "    <tr>\n",
              "      <th>89</th>\n",
              "      <td>0</td>\n",
              "      <td>3</td>\n",
              "      <td>0</td>\n",
              "      <td>324.50</td>\n",
              "      <td>1</td>\n",
              "      <td>0</td>\n",
              "      <td>0</td>\n",
              "      <td>0</td>\n",
              "      <td>0</td>\n",
              "      <td>1</td>\n",
              "      <td>0</td>\n",
              "      <td>0</td>\n",
              "      <td>0</td>\n",
              "      <td>0</td>\n",
              "      <td>0</td>\n",
              "      <td>0</td>\n",
              "      <td>0</td>\n",
              "      <td>0</td>\n",
              "      <td>0</td>\n",
              "      <td>0</td>\n",
              "    </tr>\n",
              "    <tr>\n",
              "      <th>434</th>\n",
              "      <td>0</td>\n",
              "      <td>3</td>\n",
              "      <td>0</td>\n",
              "      <td>176.32</td>\n",
              "      <td>1</td>\n",
              "      <td>0</td>\n",
              "      <td>0</td>\n",
              "      <td>0</td>\n",
              "      <td>0</td>\n",
              "      <td>0</td>\n",
              "      <td>0</td>\n",
              "      <td>1</td>\n",
              "      <td>0</td>\n",
              "      <td>0</td>\n",
              "      <td>0</td>\n",
              "      <td>0</td>\n",
              "      <td>0</td>\n",
              "      <td>0</td>\n",
              "      <td>0</td>\n",
              "      <td>0</td>\n",
              "    </tr>\n",
              "    <tr>\n",
              "      <th>435</th>\n",
              "      <td>0</td>\n",
              "      <td>3</td>\n",
              "      <td>0</td>\n",
              "      <td>337.41</td>\n",
              "      <td>1</td>\n",
              "      <td>0</td>\n",
              "      <td>0</td>\n",
              "      <td>0</td>\n",
              "      <td>0</td>\n",
              "      <td>0</td>\n",
              "      <td>0</td>\n",
              "      <td>1</td>\n",
              "      <td>0</td>\n",
              "      <td>0</td>\n",
              "      <td>0</td>\n",
              "      <td>0</td>\n",
              "      <td>0</td>\n",
              "      <td>0</td>\n",
              "      <td>0</td>\n",
              "      <td>0</td>\n",
              "    </tr>\n",
              "    <tr>\n",
              "      <th>553</th>\n",
              "      <td>0</td>\n",
              "      <td>4</td>\n",
              "      <td>1</td>\n",
              "      <td>220.11</td>\n",
              "      <td>1</td>\n",
              "      <td>0</td>\n",
              "      <td>0</td>\n",
              "      <td>0</td>\n",
              "      <td>0</td>\n",
              "      <td>0</td>\n",
              "      <td>0</td>\n",
              "      <td>0</td>\n",
              "      <td>0</td>\n",
              "      <td>0</td>\n",
              "      <td>0</td>\n",
              "      <td>0</td>\n",
              "      <td>0</td>\n",
              "      <td>0</td>\n",
              "      <td>0</td>\n",
              "      <td>1</td>\n",
              "    </tr>\n",
              "  </tbody>\n",
              "</table>\n",
              "</div>"
            ],
            "text/plain": [
              "     step age  gender  amount  fraud  category_es_barsandrestaurants  \\\n",
              "88      0   3       0   44.26      1                               0   \n",
              "89      0   3       0  324.50      1                               0   \n",
              "434     0   3       0  176.32      1                               0   \n",
              "435     0   3       0  337.41      1                               0   \n",
              "553     0   4       1  220.11      1                               0   \n",
              "\n",
              "     category_es_contents  category_es_fashion  category_es_food  \\\n",
              "88                      0                    0                 0   \n",
              "89                      0                    0                 0   \n",
              "434                     0                    0                 0   \n",
              "435                     0                    0                 0   \n",
              "553                     0                    0                 0   \n",
              "\n",
              "     category_es_health  category_es_home  category_es_hotelservices  \\\n",
              "88                    1                 0                          0   \n",
              "89                    1                 0                          0   \n",
              "434                   0                 0                          1   \n",
              "435                   0                 0                          1   \n",
              "553                   0                 0                          0   \n",
              "\n",
              "     category_es_hyper  category_es_leisure  category_es_otherservices  \\\n",
              "88                   0                    0                          0   \n",
              "89                   0                    0                          0   \n",
              "434                  0                    0                          0   \n",
              "435                  0                    0                          0   \n",
              "553                  0                    0                          0   \n",
              "\n",
              "     category_es_sportsandtoys  category_es_tech  category_es_transportation  \\\n",
              "88                           0                 0                           0   \n",
              "89                           0                 0                           0   \n",
              "434                          0                 0                           0   \n",
              "435                          0                 0                           0   \n",
              "553                          0                 0                           0   \n",
              "\n",
              "     category_es_travel  category_es_wellnessandbeauty  \n",
              "88                    0                              0  \n",
              "89                    0                              0  \n",
              "434                   0                              0  \n",
              "435                   0                              0  \n",
              "553                   0                              1  "
            ]
          },
          "execution_count": 103,
          "metadata": {},
          "output_type": "execute_result"
        }
      ],
      "source": [
        "# concatenating the sampled data frame to the fraud dataframe \n",
        "#the outcome will be a new dataframe with ratio 1:9 (fraud:nonFraud) data \n",
        "\n",
        "fraud_data=fraud_df[fraud_df['fraud']==1]\n",
        "combined_fraud_df=pd.concat([fraud_data,sample_non_fraud])\n",
        "combined_fraud_df.head()"
      ]
    },
    {
      "cell_type": "code",
      "execution_count": 109,
      "metadata": {},
      "outputs": [
        {
          "data": {
            "text/plain": [
              "(71993, 20)"
            ]
          },
          "execution_count": 109,
          "metadata": {},
          "output_type": "execute_result"
        }
      ],
      "source": [
        "#since concatenate will add the second dataframe at the bottom\n",
        "#we are using permutation to shuffle the data in the dataframe\n",
        "combined_fraud_df=combined_fraud_df.iloc[np.random.permutation(len(combined_fraud_df['fraud']))]\n",
        "combined_fraud_df.shape"
      ]
    },
    {
      "cell_type": "code",
      "execution_count": 66,
      "metadata": {
        "id": "qgKdodxeNbSg"
      },
      "outputs": [],
      "source": [
        "\n",
        "# (5) Feature engineer for data that is\n",
        "# (a) relevant \n",
        "# (b) unique\n",
        "# (c) correct \n",
        "# (d) not missing\n",
        "\n",
        "# Drop data that is not a,b,c, or d\n",
        "# Use one-hot encoding for nominal\n",
        "# Reduce dimensions of your features"
      ]
    },
    {
      "cell_type": "code",
      "execution_count": null,
      "metadata": {},
      "outputs": [],
      "source": [
        "trainF,testF,trainL,testL=train_test_split(features_df,label_df,train_size=0.6,random_state=25)\n",
        "testF.head()"
      ]
    },
    {
      "cell_type": "code",
      "execution_count": 67,
      "metadata": {
        "id": "qQUJ5CbjNbSg"
      },
      "outputs": [],
      "source": [
        "# (6) Confirm data is ready with further exploratory analysis"
      ]
    },
    {
      "cell_type": "code",
      "execution_count": 68,
      "metadata": {
        "id": "b6iXRi3DNbSh"
      },
      "outputs": [],
      "source": [
        "# (7) Training, Testing (and/or Validation) data split \n",
        "\n",
        "# for example, 60/20/20"
      ]
    },
    {
      "cell_type": "code",
      "execution_count": 69,
      "metadata": {
        "id": "dQeJh0J5NbSh"
      },
      "outputs": [],
      "source": [
        "# (7.b) If using Deep Learning, building the model\n",
        "\n",
        "# Add Input Layer\n",
        "# Add Hidden Layers\n",
        "# Add Output"
      ]
    },
    {
      "cell_type": "code",
      "execution_count": 70,
      "metadata": {
        "id": "Yg1qe2-3NbSi"
      },
      "outputs": [],
      "source": [
        "# (8) Training the Machine Learning Model (i.e, Fitting the Model)"
      ]
    },
    {
      "cell_type": "code",
      "execution_count": 71,
      "metadata": {
        "id": "oeeZqh7YNbSj"
      },
      "outputs": [],
      "source": [
        "# (9) Evaluate the model metrics for Training (and/or Validation) data"
      ]
    },
    {
      "cell_type": "code",
      "execution_count": 72,
      "metadata": {
        "id": "aSK7W4-ZNbSk"
      },
      "outputs": [],
      "source": [
        "# (10) Evaluate the model metris for Testing data\n",
        "\n",
        "\n",
        "# If metrics are poor, optimize either (a) the data, (b) the hyperpamaters"
      ]
    },
    {
      "cell_type": "code",
      "execution_count": 73,
      "metadata": {
        "id": "2nKxnZfqNbSk"
      },
      "outputs": [],
      "source": [
        "# (11) Use the model for prediction"
      ]
    },
    {
      "cell_type": "code",
      "execution_count": 74,
      "metadata": {
        "id": "dEcPvK3PNbSk"
      },
      "outputs": [],
      "source": [
        "# (12) Write final predicted data  (e.g, to CSV or JSON, etc.)"
      ]
    }
  ],
  "metadata": {
    "colab": {
      "name": "option-c-guide.ipynb",
      "provenance": []
    },
    "kernelspec": {
      "display_name": "Python 3.7.4 64-bit",
      "metadata": {
        "interpreter": {
          "hash": "aee8b7b246df8f9039afb4144a1f6fd8d2ca17a180786b69acc140d282b71a49"
        }
      },
      "name": "python3"
    },
    "language_info": {
      "codemirror_mode": {
        "name": "ipython",
        "version": 3
      },
      "file_extension": ".py",
      "mimetype": "text/x-python",
      "name": "python",
      "nbconvert_exporter": "python",
      "pygments_lexer": "ipython3",
      "version": "3.8.8"
    },
    "orig_nbformat": 2
  },
  "nbformat": 4,
  "nbformat_minor": 2
}
