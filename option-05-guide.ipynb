{
  "cells": [
    {
      "cell_type": "markdown",
      "metadata": {
        "id": "T9sXcpkuNbSW"
      },
      "source": [
        "### Option 05 - Fraud Detection for Finance\n",
        "For this project, import the dataset here, <br/>\n",
        "https://www.kaggle.com/ntnu-testimon/banksim1 <br>\n",
        "Alternative link <br/>\n",
        "https://www.kaggle.com/code/vmeh23/general-data-analysis-for-banksim-data-set/data"
      ]
    },
    {
      "cell_type": "markdown",
      "metadata": {},
      "source": [
        "* step: maps a unit of time in the real world. In this case 1 step is 1 hour of time. Total steps 744 (30 days simulation). <br/>\n",
        "* customer: ID of the customer <br/>\n",
        "* age: The age of the accounts  <br/>\n",
        "* gender: Gender of the customer <br/>\n",
        "* zipcodeOri: The zip code of the customer<br/>\n",
        "* merchant:  ID of the merchant <br/>\n",
        "* zipMerchant: The zip code of the merchant <br/>\n",
        "* category: Category of the transaction <br/>\n",
        "* amount: The amount of the transaction <br/>\n",
        "* fraud: Binary value indicating fraudulent or not fraudulent <br/>"
      ]
    },
    {
      "cell_type": "code",
      "execution_count": 2,
      "metadata": {
        "id": "46bCi9D7NbSc"
      },
      "outputs": [],
      "source": [
        "# (1) Import libraries\n",
        "import pandas as pd"
      ]
    },
    {
      "cell_type": "code",
      "execution_count": 3,
      "metadata": {
        "id": "fMJQSLI7N2Df"
      },
      "outputs": [],
      "source": [
        "# (2.c) Read transaction data into Pandas DataFrame\n",
        "fraud_df = pd.read_csv('./bs140513_032310.csv')\n",
        "\n",
        "\n",
        "# Note: the equivalent method for a PySpark DataFrame is\n",
        "# df = spark.read.csv()"
      ]
    },
    {
      "cell_type": "code",
      "execution_count": 4,
      "metadata": {
        "id": "if7CwQppNbSf"
      },
      "outputs": [
        {
          "name": "stdout",
          "output_type": "stream",
          "text": [
            "<class 'pandas.core.frame.DataFrame'>\n",
            "RangeIndex: 594643 entries, 0 to 594642\n",
            "Data columns (total 10 columns):\n",
            " #   Column       Non-Null Count   Dtype  \n",
            "---  ------       --------------   -----  \n",
            " 0   step         594643 non-null  int64  \n",
            " 1   customer     594643 non-null  object \n",
            " 2   age          594643 non-null  object \n",
            " 3   gender       594643 non-null  object \n",
            " 4   zipcodeOri   594643 non-null  object \n",
            " 5   merchant     594643 non-null  object \n",
            " 6   zipMerchant  594643 non-null  object \n",
            " 7   category     594643 non-null  object \n",
            " 8   amount       594643 non-null  float64\n",
            " 9   fraud        594643 non-null  int64  \n",
            "dtypes: float64(1), int64(2), object(7)\n",
            "memory usage: 45.4+ MB\n"
          ]
        }
      ],
      "source": [
        "# (3) Explore data (for example, see what is categorial and numerical)\n",
        "# We used info method to check if the dataset has null values. There are no null \n",
        "#values in any column\n",
        "fraud_df.info()"
      ]
    },
    {
      "cell_type": "code",
      "execution_count": 5,
      "metadata": {},
      "outputs": [
        {
          "data": {
            "text/html": [
              "<div>\n",
              "<style scoped>\n",
              "    .dataframe tbody tr th:only-of-type {\n",
              "        vertical-align: middle;\n",
              "    }\n",
              "\n",
              "    .dataframe tbody tr th {\n",
              "        vertical-align: top;\n",
              "    }\n",
              "\n",
              "    .dataframe thead th {\n",
              "        text-align: right;\n",
              "    }\n",
              "</style>\n",
              "<table border=\"1\" class=\"dataframe\">\n",
              "  <thead>\n",
              "    <tr style=\"text-align: right;\">\n",
              "      <th></th>\n",
              "      <th>step</th>\n",
              "      <th>customer</th>\n",
              "      <th>age</th>\n",
              "      <th>gender</th>\n",
              "      <th>zipcodeOri</th>\n",
              "      <th>merchant</th>\n",
              "      <th>zipMerchant</th>\n",
              "      <th>category</th>\n",
              "      <th>amount</th>\n",
              "      <th>fraud</th>\n",
              "    </tr>\n",
              "  </thead>\n",
              "  <tbody>\n",
              "    <tr>\n",
              "      <th>0</th>\n",
              "      <td>0</td>\n",
              "      <td>'C1093826151'</td>\n",
              "      <td>'4'</td>\n",
              "      <td>'M'</td>\n",
              "      <td>'28007'</td>\n",
              "      <td>'M348934600'</td>\n",
              "      <td>'28007'</td>\n",
              "      <td>'es_transportation'</td>\n",
              "      <td>4.55</td>\n",
              "      <td>0</td>\n",
              "    </tr>\n",
              "    <tr>\n",
              "      <th>1</th>\n",
              "      <td>0</td>\n",
              "      <td>'C352968107'</td>\n",
              "      <td>'2'</td>\n",
              "      <td>'M'</td>\n",
              "      <td>'28007'</td>\n",
              "      <td>'M348934600'</td>\n",
              "      <td>'28007'</td>\n",
              "      <td>'es_transportation'</td>\n",
              "      <td>39.68</td>\n",
              "      <td>0</td>\n",
              "    </tr>\n",
              "    <tr>\n",
              "      <th>2</th>\n",
              "      <td>0</td>\n",
              "      <td>'C2054744914'</td>\n",
              "      <td>'4'</td>\n",
              "      <td>'F'</td>\n",
              "      <td>'28007'</td>\n",
              "      <td>'M1823072687'</td>\n",
              "      <td>'28007'</td>\n",
              "      <td>'es_transportation'</td>\n",
              "      <td>26.89</td>\n",
              "      <td>0</td>\n",
              "    </tr>\n",
              "    <tr>\n",
              "      <th>3</th>\n",
              "      <td>0</td>\n",
              "      <td>'C1760612790'</td>\n",
              "      <td>'3'</td>\n",
              "      <td>'M'</td>\n",
              "      <td>'28007'</td>\n",
              "      <td>'M348934600'</td>\n",
              "      <td>'28007'</td>\n",
              "      <td>'es_transportation'</td>\n",
              "      <td>17.25</td>\n",
              "      <td>0</td>\n",
              "    </tr>\n",
              "    <tr>\n",
              "      <th>4</th>\n",
              "      <td>0</td>\n",
              "      <td>'C757503768'</td>\n",
              "      <td>'5'</td>\n",
              "      <td>'M'</td>\n",
              "      <td>'28007'</td>\n",
              "      <td>'M348934600'</td>\n",
              "      <td>'28007'</td>\n",
              "      <td>'es_transportation'</td>\n",
              "      <td>35.72</td>\n",
              "      <td>0</td>\n",
              "    </tr>\n",
              "  </tbody>\n",
              "</table>\n",
              "</div>"
            ],
            "text/plain": [
              "   step       customer  age gender zipcodeOri       merchant zipMerchant  \\\n",
              "0     0  'C1093826151'  '4'    'M'    '28007'   'M348934600'     '28007'   \n",
              "1     0   'C352968107'  '2'    'M'    '28007'   'M348934600'     '28007'   \n",
              "2     0  'C2054744914'  '4'    'F'    '28007'  'M1823072687'     '28007'   \n",
              "3     0  'C1760612790'  '3'    'M'    '28007'   'M348934600'     '28007'   \n",
              "4     0   'C757503768'  '5'    'M'    '28007'   'M348934600'     '28007'   \n",
              "\n",
              "              category  amount  fraud  \n",
              "0  'es_transportation'    4.55      0  \n",
              "1  'es_transportation'   39.68      0  \n",
              "2  'es_transportation'   26.89      0  \n",
              "3  'es_transportation'   17.25      0  \n",
              "4  'es_transportation'   35.72      0  "
            ]
          },
          "execution_count": 5,
          "metadata": {},
          "output_type": "execute_result"
        }
      ],
      "source": [
        "\n",
        "fraud_df.head()"
      ]
    },
    {
      "cell_type": "code",
      "execution_count": 6,
      "metadata": {},
      "outputs": [
        {
          "data": {
            "text/plain": [
              "'28007'    594643\n",
              "Name: zipMerchant, dtype: int64"
            ]
          },
          "execution_count": 6,
          "metadata": {},
          "output_type": "execute_result"
        }
      ],
      "source": [
        "fraud_df['zipMerchant'].value_counts()\n"
      ]
    },
    {
      "cell_type": "code",
      "execution_count": 7,
      "metadata": {},
      "outputs": [
        {
          "data": {
            "text/plain": [
              "'28007'    594643\n",
              "Name: zipcodeOri, dtype: int64"
            ]
          },
          "execution_count": 7,
          "metadata": {},
          "output_type": "execute_result"
        }
      ],
      "source": [
        "fraud_df['zipcodeOri'].value_counts()"
      ]
    },
    {
      "cell_type": "code",
      "execution_count": 8,
      "metadata": {},
      "outputs": [
        {
          "data": {
            "text/plain": [
              "'es_transportation'        505119\n",
              "'es_food'                   26254\n",
              "'es_health'                 16133\n",
              "'es_wellnessandbeauty'      15086\n",
              "'es_fashion'                 6454\n",
              "'es_barsandrestaurants'      6373\n",
              "'es_hyper'                   6098\n",
              "'es_sportsandtoys'           4002\n",
              "'es_tech'                    2370\n",
              "'es_home'                    1986\n",
              "'es_hotelservices'           1744\n",
              "'es_otherservices'            912\n",
              "'es_contents'                 885\n",
              "'es_travel'                   728\n",
              "'es_leisure'                  499\n",
              "Name: category, dtype: int64"
            ]
          },
          "execution_count": 8,
          "metadata": {},
          "output_type": "execute_result"
        }
      ],
      "source": [
        "fraud_df['category'].value_counts()"
      ]
    },
    {
      "cell_type": "code",
      "execution_count": 9,
      "metadata": {},
      "outputs": [
        {
          "data": {
            "text/plain": [
              "0    587443\n",
              "1      7200\n",
              "Name: fraud, dtype: int64"
            ]
          },
          "execution_count": 9,
          "metadata": {},
          "output_type": "execute_result"
        }
      ],
      "source": [
        "fraud_df['fraud'].value_counts()"
      ]
    },
    {
      "cell_type": "code",
      "execution_count": 10,
      "metadata": {},
      "outputs": [
        {
          "data": {
            "text/plain": [
              "'M1823072687'    299693\n",
              "'M348934600'     205426\n",
              "'M85975013'       26254\n",
              "'M1053599405'      6821\n",
              "'M151143676'       6373\n",
              "'M855959430'       6098\n",
              "'M1946091778'      5343\n",
              "'M1913465890'      3988\n",
              "'M209847108'       3814\n",
              "'M480139044'       3508\n",
              "'M349281107'       2881\n",
              "'M1600850729'      2624\n",
              "'M1535107174'      1868\n",
              "'M980657600'       1769\n",
              "'M78078399'        1608\n",
              "'M1198415165'      1580\n",
              "'M840466850'       1399\n",
              "'M1649169323'      1173\n",
              "'M547558035'        949\n",
              "'M50039827'         916\n",
              "'M1888755466'       912\n",
              "'M692898500'        900\n",
              "'M1400236507'       776\n",
              "'M1842530320'       751\n",
              "'M732195782'        608\n",
              "'M97925176'         599\n",
              "'M45060432'         573\n",
              "'M1741626453'       528\n",
              "'M1313686961'       527\n",
              "'M1872033263'       525\n",
              "'M1352454843'       370\n",
              "'M677738360'        358\n",
              "'M2122776122'       341\n",
              "'M923029380'        323\n",
              "'M3697346'          308\n",
              "'M17379832'         282\n",
              "'M1748431652'       274\n",
              "'M1873032707'       250\n",
              "'M2011752106'       244\n",
              "'M1416436880'       220\n",
              "'M1294758098'       191\n",
              "'M1788569036'       181\n",
              "'M857378720'        122\n",
              "'M348875670'        107\n",
              "'M1353266412'        78\n",
              "'M495352832'         69\n",
              "'M933210764'         69\n",
              "'M2080407379'        48\n",
              "'M117188757'         21\n",
              "'M1726401631'         3\n",
              "Name: merchant, dtype: int64"
            ]
          },
          "execution_count": 10,
          "metadata": {},
          "output_type": "execute_result"
        }
      ],
      "source": [
        "fraud_df['merchant'].value_counts()"
      ]
    },
    {
      "cell_type": "code",
      "execution_count": 11,
      "metadata": {},
      "outputs": [
        {
          "data": {
            "text/plain": [
              "179    3709\n",
              "178    3743\n",
              "177    3758\n",
              "176    3721\n",
              "175    3774\n",
              "       ... \n",
              "4      2532\n",
              "3      2499\n",
              "2      2462\n",
              "1      2424\n",
              "0      2430\n",
              "Name: step, Length: 180, dtype: int64"
            ]
          },
          "execution_count": 11,
          "metadata": {},
          "output_type": "execute_result"
        }
      ],
      "source": [
        "fraud_df['step'].value_counts().sort_index(ascending=False)"
      ]
    },
    {
      "cell_type": "code",
      "execution_count": 12,
      "metadata": {
        "id": "O4kcjZT7NbSf"
      },
      "outputs": [],
      "source": [
        "# We analyzed each column in the dataset, identified irrelevant features and dropped them.\n",
        " \n",
        "columns_to_drop=['customer','zipcodeOri','merchant','zipMerchant']\n",
        "fraud_df.drop(columns_to_drop,axis=1,inplace=True)\n",
        "\n",
        "\n"
      ]
    },
    {
      "cell_type": "code",
      "execution_count": 13,
      "metadata": {},
      "outputs": [],
      "source": [
        "# (4) Choose the label and features\n",
        "label_df=fraud_df['fraud']\n",
        "features_df=fraud_df.drop('fraud',axis=1,inplace=False)"
      ]
    },
    {
      "cell_type": "code",
      "execution_count": 14,
      "metadata": {},
      "outputs": [
        {
          "data": {
            "text/html": [
              "<div>\n",
              "<style scoped>\n",
              "    .dataframe tbody tr th:only-of-type {\n",
              "        vertical-align: middle;\n",
              "    }\n",
              "\n",
              "    .dataframe tbody tr th {\n",
              "        vertical-align: top;\n",
              "    }\n",
              "\n",
              "    .dataframe thead th {\n",
              "        text-align: right;\n",
              "    }\n",
              "</style>\n",
              "<table border=\"1\" class=\"dataframe\">\n",
              "  <thead>\n",
              "    <tr style=\"text-align: right;\">\n",
              "      <th></th>\n",
              "      <th>step</th>\n",
              "      <th>age</th>\n",
              "      <th>gender</th>\n",
              "      <th>category</th>\n",
              "      <th>amount</th>\n",
              "      <th>fraud</th>\n",
              "    </tr>\n",
              "  </thead>\n",
              "  <tbody>\n",
              "    <tr>\n",
              "      <th>0</th>\n",
              "      <td>0</td>\n",
              "      <td>'4'</td>\n",
              "      <td>'M'</td>\n",
              "      <td>'es_transportation'</td>\n",
              "      <td>4.55</td>\n",
              "      <td>0</td>\n",
              "    </tr>\n",
              "    <tr>\n",
              "      <th>1</th>\n",
              "      <td>0</td>\n",
              "      <td>'2'</td>\n",
              "      <td>'M'</td>\n",
              "      <td>'es_transportation'</td>\n",
              "      <td>39.68</td>\n",
              "      <td>0</td>\n",
              "    </tr>\n",
              "    <tr>\n",
              "      <th>2</th>\n",
              "      <td>0</td>\n",
              "      <td>'4'</td>\n",
              "      <td>'F'</td>\n",
              "      <td>'es_transportation'</td>\n",
              "      <td>26.89</td>\n",
              "      <td>0</td>\n",
              "    </tr>\n",
              "    <tr>\n",
              "      <th>3</th>\n",
              "      <td>0</td>\n",
              "      <td>'3'</td>\n",
              "      <td>'M'</td>\n",
              "      <td>'es_transportation'</td>\n",
              "      <td>17.25</td>\n",
              "      <td>0</td>\n",
              "    </tr>\n",
              "    <tr>\n",
              "      <th>4</th>\n",
              "      <td>0</td>\n",
              "      <td>'5'</td>\n",
              "      <td>'M'</td>\n",
              "      <td>'es_transportation'</td>\n",
              "      <td>35.72</td>\n",
              "      <td>0</td>\n",
              "    </tr>\n",
              "  </tbody>\n",
              "</table>\n",
              "</div>"
            ],
            "text/plain": [
              "   step  age gender             category  amount  fraud\n",
              "0     0  '4'    'M'  'es_transportation'    4.55      0\n",
              "1     0  '2'    'M'  'es_transportation'   39.68      0\n",
              "2     0  '4'    'F'  'es_transportation'   26.89      0\n",
              "3     0  '3'    'M'  'es_transportation'   17.25      0\n",
              "4     0  '5'    'M'  'es_transportation'   35.72      0"
            ]
          },
          "execution_count": 14,
          "metadata": {},
          "output_type": "execute_result"
        }
      ],
      "source": [
        "fraud_df.head()"
      ]
    },
    {
      "cell_type": "code",
      "execution_count": 15,
      "metadata": {},
      "outputs": [
        {
          "name": "stdout",
          "output_type": "stream",
          "text": [
            "<class 'pandas.core.frame.DataFrame'>\n",
            "RangeIndex: 594643 entries, 0 to 594642\n",
            "Data columns (total 6 columns):\n",
            " #   Column    Non-Null Count   Dtype  \n",
            "---  ------    --------------   -----  \n",
            " 0   step      594643 non-null  int64  \n",
            " 1   age       594643 non-null  object \n",
            " 2   gender    594643 non-null  object \n",
            " 3   category  594643 non-null  object \n",
            " 4   amount    594643 non-null  float64\n",
            " 5   fraud     594643 non-null  int64  \n",
            "dtypes: float64(1), int64(2), object(3)\n",
            "memory usage: 27.2+ MB\n"
          ]
        }
      ],
      "source": [
        "fraud_df.info()"
      ]
    },
    {
      "cell_type": "code",
      "execution_count": 16,
      "metadata": {},
      "outputs": [
        {
          "data": {
            "text/plain": [
              "array([\"'4'\", \"'2'\", \"'3'\", \"'5'\", \"'1'\", \"'6'\", \"'U'\", \"'0'\"],\n",
              "      dtype=object)"
            ]
          },
          "execution_count": 16,
          "metadata": {},
          "output_type": "execute_result"
        }
      ],
      "source": [
        "# We used series.unique() method for each column in the dataset\n",
        "# to check if the column contains any incorrect data\n",
        "\n",
        "fraud_df['age'].unique()\n",
        "\n"
      ]
    },
    {
      "cell_type": "code",
      "execution_count": 17,
      "metadata": {},
      "outputs": [
        {
          "data": {
            "text/plain": [
              "array([  0,   1,   2,   3,   4,   5,   6,   7,   8,   9,  10,  11,  12,\n",
              "        13,  14,  15,  16,  17,  18,  19,  20,  21,  22,  23,  24,  25,\n",
              "        26,  27,  28,  29,  30,  31,  32,  33,  34,  35,  36,  37,  38,\n",
              "        39,  40,  41,  42,  43,  44,  45,  46,  47,  48,  49,  50,  51,\n",
              "        52,  53,  54,  55,  56,  57,  58,  59,  60,  61,  62,  63,  64,\n",
              "        65,  66,  67,  68,  69,  70,  71,  72,  73,  74,  75,  76,  77,\n",
              "        78,  79,  80,  81,  82,  83,  84,  85,  86,  87,  88,  89,  90,\n",
              "        91,  92,  93,  94,  95,  96,  97,  98,  99, 100, 101, 102, 103,\n",
              "       104, 105, 106, 107, 108, 109, 110, 111, 112, 113, 114, 115, 116,\n",
              "       117, 118, 119, 120, 121, 122, 123, 124, 125, 126, 127, 128, 129,\n",
              "       130, 131, 132, 133, 134, 135, 136, 137, 138, 139, 140, 141, 142,\n",
              "       143, 144, 145, 146, 147, 148, 149, 150, 151, 152, 153, 154, 155,\n",
              "       156, 157, 158, 159, 160, 161, 162, 163, 164, 165, 166, 167, 168,\n",
              "       169, 170, 171, 172, 173, 174, 175, 176, 177, 178, 179], dtype=int64)"
            ]
          },
          "execution_count": 17,
          "metadata": {},
          "output_type": "execute_result"
        }
      ],
      "source": [
        "fraud_df['step'].unique()"
      ]
    },
    {
      "cell_type": "code",
      "execution_count": 18,
      "metadata": {},
      "outputs": [
        {
          "data": {
            "text/plain": [
              "array([  0,   1,   2,   3,   4,   5,   6,   7,   8,   9,  10,  11,  12,\n",
              "        13,  14,  15,  16,  17,  18,  19,  20,  21,  22,  23,  24,  25,\n",
              "        26,  27,  28,  29,  30,  31,  32,  33,  34,  35,  36,  37,  38,\n",
              "        39,  40,  41,  42,  43,  44,  45,  46,  47,  48,  49,  50,  51,\n",
              "        52,  53,  54,  55,  56,  57,  58,  59,  60,  61,  62,  63,  64,\n",
              "        65,  66,  67,  68,  69,  70,  71,  72,  73,  74,  75,  76,  77,\n",
              "        78,  79,  80,  81,  82,  83,  84,  85,  86,  87,  88,  89,  90,\n",
              "        91,  92,  93,  94,  95,  96,  97,  98,  99, 100, 101, 102, 103,\n",
              "       104, 105, 106, 107, 108, 109, 110, 111, 112, 113, 114, 115, 116,\n",
              "       117, 118, 119, 120, 121, 122, 123, 124, 125, 126, 127, 128, 129,\n",
              "       130, 131, 132, 133, 134, 135, 136, 137, 138, 139, 140, 141, 142,\n",
              "       143, 144, 145, 146, 147, 148, 149, 150, 151, 152, 153, 154, 155,\n",
              "       156, 157, 158, 159, 160, 161, 162, 163, 164, 165, 166, 167, 168,\n",
              "       169, 170, 171, 172, 173, 174, 175, 176, 177, 178, 179], dtype=int64)"
            ]
          },
          "execution_count": 18,
          "metadata": {},
          "output_type": "execute_result"
        }
      ],
      "source": [
        "fraud_df['step'].unique()"
      ]
    },
    {
      "cell_type": "code",
      "execution_count": 19,
      "metadata": {},
      "outputs": [
        {
          "data": {
            "text/plain": [
              "array([\"'es_transportation'\", \"'es_health'\", \"'es_otherservices'\",\n",
              "       \"'es_food'\", \"'es_hotelservices'\", \"'es_barsandrestaurants'\",\n",
              "       \"'es_tech'\", \"'es_sportsandtoys'\", \"'es_wellnessandbeauty'\",\n",
              "       \"'es_hyper'\", \"'es_fashion'\", \"'es_home'\", \"'es_contents'\",\n",
              "       \"'es_travel'\", \"'es_leisure'\"], dtype=object)"
            ]
          },
          "execution_count": 19,
          "metadata": {},
          "output_type": "execute_result"
        }
      ],
      "source": [
        "fraud_df['category'].unique()"
      ]
    },
    {
      "cell_type": "code",
      "execution_count": 20,
      "metadata": {},
      "outputs": [
        {
          "data": {
            "text/plain": [
              "array([\"'M'\", \"'F'\", \"'E'\", \"'U'\"], dtype=object)"
            ]
          },
          "execution_count": 20,
          "metadata": {},
          "output_type": "execute_result"
        }
      ],
      "source": [
        "fraud_df['gender'].unique()"
      ]
    },
    {
      "cell_type": "code",
      "execution_count": 21,
      "metadata": {},
      "outputs": [
        {
          "data": {
            "text/plain": [
              "age  gender\n",
              "'U'  'E'       1178\n",
              "dtype: int64"
            ]
          },
          "execution_count": 21,
          "metadata": {},
          "output_type": "execute_result"
        }
      ],
      "source": [
        "# We used series.str.replace() method to remove quotations\n",
        "# fraud_df['age']=fraud_df['age'].str.replace(\"'\",'')\n",
        "# fraud_df['category']=fraud_df['category'].str.replace(\"'\",'')\n",
        "# fraud_df['gender']=fraud_df['gender'].map({\"'M'\":0,\"'F'\":1})\n",
        "# # fraud_df['gender']=fraud_df['gender'].astype(int)\n",
        "u_values=fraud_df.loc[fraud_df['gender']==\"'E'\",['age','gender']]\n",
        "\n",
        "u_values.value_counts()"
      ]
    },
    {
      "cell_type": "code",
      "execution_count": 22,
      "metadata": {
        "id": "qgKdodxeNbSg"
      },
      "outputs": [],
      "source": [
        "\n",
        "# (5) Feature engineer for data that is\n",
        "# (a) relevant \n",
        "# (b) unique\n",
        "# (c) correct \n",
        "# (d) not missing\n",
        "\n",
        "# Drop data that is not a,b,c, or d\n",
        "# Use one-hot encoding for nominal\n",
        "# Reduce dimensions of your features"
      ]
    },
    {
      "cell_type": "code",
      "execution_count": null,
      "metadata": {},
      "outputs": [],
      "source": []
    },
    {
      "cell_type": "code",
      "execution_count": 23,
      "metadata": {
        "id": "qQUJ5CbjNbSg"
      },
      "outputs": [],
      "source": [
        "# (6) Confirm data is ready with further exploratory analysis"
      ]
    },
    {
      "cell_type": "code",
      "execution_count": 24,
      "metadata": {
        "id": "b6iXRi3DNbSh"
      },
      "outputs": [],
      "source": [
        "# (7) Training, Testing (and/or Validation) data split \n",
        "\n",
        "# for example, 60/20/20"
      ]
    },
    {
      "cell_type": "code",
      "execution_count": 25,
      "metadata": {
        "id": "dQeJh0J5NbSh"
      },
      "outputs": [],
      "source": [
        "# (7.b) If using Deep Learning, building the model\n",
        "\n",
        "# Add Input Layer\n",
        "# Add Hidden Layers\n",
        "# Add Output"
      ]
    },
    {
      "cell_type": "code",
      "execution_count": 26,
      "metadata": {
        "id": "Yg1qe2-3NbSi"
      },
      "outputs": [],
      "source": [
        "# (8) Training the Machine Learning Model (i.e, Fitting the Model)"
      ]
    },
    {
      "cell_type": "code",
      "execution_count": 27,
      "metadata": {
        "id": "oeeZqh7YNbSj"
      },
      "outputs": [],
      "source": [
        "# (9) Evaluate the model metrics for Training (and/or Validation) data"
      ]
    },
    {
      "cell_type": "code",
      "execution_count": 28,
      "metadata": {
        "id": "aSK7W4-ZNbSk"
      },
      "outputs": [],
      "source": [
        "# (10) Evaluate the model metris for Testing data\n",
        "\n",
        "\n",
        "# If metrics are poor, optimize either (a) the data, (b) the hyperpamaters"
      ]
    },
    {
      "cell_type": "code",
      "execution_count": 29,
      "metadata": {
        "id": "2nKxnZfqNbSk"
      },
      "outputs": [],
      "source": [
        "# (11) Use the model for prediction"
      ]
    },
    {
      "cell_type": "code",
      "execution_count": 30,
      "metadata": {
        "id": "dEcPvK3PNbSk"
      },
      "outputs": [],
      "source": [
        "# (12) Write final predicted data  (e.g, to CSV or JSON, etc.)"
      ]
    }
  ],
  "metadata": {
    "colab": {
      "name": "option-c-guide.ipynb",
      "provenance": []
    },
    "kernelspec": {
      "display_name": "Python 3.7.4 64-bit",
      "metadata": {
        "interpreter": {
          "hash": "aee8b7b246df8f9039afb4144a1f6fd8d2ca17a180786b69acc140d282b71a49"
        }
      },
      "name": "python3"
    },
    "language_info": {
      "codemirror_mode": {
        "name": "ipython",
        "version": 3
      },
      "file_extension": ".py",
      "mimetype": "text/x-python",
      "name": "python",
      "nbconvert_exporter": "python",
      "pygments_lexer": "ipython3",
      "version": "3.8.8"
    },
    "orig_nbformat": 2
  },
  "nbformat": 4,
  "nbformat_minor": 2
}
